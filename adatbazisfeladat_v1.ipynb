{
 "cells": [
  {
   "cell_type": "markdown",
   "id": "2c4c9eb6",
   "metadata": {},
   "source": [
    "Imports"
   ]
  },
  {
   "cell_type": "code",
   "execution_count": null,
   "id": "ffed1112",
   "metadata": {},
   "outputs": [],
   "source": [
    "import pyodbc\n",
    "import pandas as pd"
   ]
  },
  {
   "cell_type": "markdown",
   "id": "367be7c8",
   "metadata": {},
   "source": [
    "Csatlakozzunk egy már létező adatbázishoz"
   ]
  },
  {
   "cell_type": "code",
   "execution_count": null,
   "id": "a357db47",
   "metadata": {},
   "outputs": [],
   "source": [
    "conn = pyodbc.connect(\n",
    "    \"Driver={ODBC Driver 17 for SQL Server};\"\n",
    "    \"Server=localhost\\\\SQLEXPRESS;\"\n",
    "    \"Database=master;\"\n",
    "    \"Trusted_Connection=yes;\",\n",
    "    autocommit=True # nem kell mindig beírni, hogy conn.commit() minden execute után\n",
    ")\n",
    "\n",
    "\n",
    "cursor = conn.cursor()\n",
    "\n",
    "cursor.execute(\"USE master\")"
   ]
  },
  {
   "cell_type": "markdown",
   "id": "f891ea05",
   "metadata": {},
   "source": [
    "Hozzuk lére az 'autosiskola' adatbázist"
   ]
  },
  {
   "cell_type": "code",
   "execution_count": null,
   "id": "47f08992",
   "metadata": {},
   "outputs": [],
   "source": [
    "cursor.execute(\"IF EXISTS (SELECT name FROM sys.databases WHERE name = 'autosiskola') DROP DATABASE autosiskola\")   ### újrafuttatás miatt\n",
    "cursor.execute(\"CREATE DATABASE autosiskola\")\n",
    "cursor.execute(\"USE autosiskola\")\n",
    "\n",
    "conn.close()"
   ]
  },
  {
   "cell_type": "markdown",
   "id": "c442c688",
   "metadata": {},
   "source": [
    "Csatlakozás az 'autosiskola' adatbázishoz"
   ]
  },
  {
   "cell_type": "code",
   "execution_count": null,
   "id": "354011f2",
   "metadata": {},
   "outputs": [],
   "source": [
    "conn = pyodbc.connect(\n",
    "    \"Driver={ODBC Driver 17 for SQL Server};\"\n",
    "    \"Server=localhost\\\\SQLEXPRESS;\"\n",
    "    \"Database=autosiskola;\"\n",
    "    \"Trusted_Connection=yes;\",\n",
    "    autocommit=True\n",
    ")\n",
    "cursor = conn.cursor()"
   ]
  },
  {
   "cell_type": "markdown",
   "id": "7b8ddf17",
   "metadata": {},
   "source": [
    "Töröljük a táblákat, amennyiben léteznek (újrafuttatása miatt)"
   ]
  },
  {
   "cell_type": "code",
   "execution_count": null,
   "id": "c535a75e",
   "metadata": {},
   "outputs": [],
   "source": [
    "drop_tables_sql = \"\"\"\n",
    "DROP TABLE IF EXISTS Lessons;\n",
    "DROP TABLE IF EXISTS Exams;\n",
    "DROP TABLE IF EXISTS Vehicles;\n",
    "DROP TABLE IF EXISTS Students;\n",
    "DROP TABLE IF EXISTS Instructors;\n",
    "\"\"\"\n",
    "\n",
    "for stmt in drop_tables_sql.strip().split(\";\"):\n",
    "    if stmt.strip():\n",
    "        cursor.execute(stmt)\n"
   ]
  },
  {
   "cell_type": "markdown",
   "id": "0a292e10",
   "metadata": {},
   "source": [
    "Hozzuk létre a táblákat"
   ]
  },
  {
   "cell_type": "code",
   "execution_count": null,
   "id": "fe09b460",
   "metadata": {},
   "outputs": [],
   "source": [
    "create_tables_sql = \"\"\"\n",
    "CREATE TABLE Students (\n",
    "    tanulo_id INT PRIMARY KEY,\n",
    "    nev NVARCHAR(100) NOT NULL,\n",
    "    szuletesi_datum DATE NOT NULL,\n",
    "    lakcim NVARCHAR(200) NOT NULL,\n",
    "    telefonszam NVARCHAR(30),\n",
    "    email NVARCHAR(100),\n",
    "    jelentkezes_datum DATE NOT NULL\n",
    ");\n",
    "\n",
    "CREATE TABLE Instructors (\n",
    "    oktato_id INT PRIMARY KEY,\n",
    "    nev NVARCHAR(100) NOT NULL,\n",
    "    jogositvany_tipus CHAR(1) NOT NULL CHECK (jogositvany_tipus IN ('A', 'B', 'C', 'D')),\n",
    "    munkaviszony_kezdete DATE NOT NULL,\n",
    "    telefonszam NVARCHAR(30),\n",
    "    email NVARCHAR(100)\n",
    ");\n",
    "\n",
    "CREATE TABLE Lessons (\n",
    "    ora_id INT PRIMARY KEY,\n",
    "    tanulo_id INT NOT NULL,\n",
    "    oktato_id INT NOT NULL,\n",
    "    datum DATE NOT NULL,\n",
    "    idopont TIME NOT NULL,\n",
    "    ora_tipus NVARCHAR(20) NOT NULL CHECK (ora_tipus IN ('elméleti', 'gyakorlati')),\n",
    "    helyszin NVARCHAR(100),\n",
    "    FOREIGN KEY (tanulo_id) REFERENCES Students(tanulo_id),\n",
    "    FOREIGN KEY (oktato_id) REFERENCES Instructors(oktato_id)\n",
    ");\n",
    "\n",
    "CREATE TABLE Vehicles (\n",
    "    jarmu_id INT PRIMARY KEY,\n",
    "    rendszam NVARCHAR(20) NOT NULL UNIQUE,\n",
    "    marka NVARCHAR(50),\n",
    "    tipus NVARCHAR(50),\n",
    "    evjarat INT CHECK (evjarat >= 1990),\n",
    "    muszaki_ervenyesseg DATE,\n",
    "    oktato_id INT NOT NULL,\n",
    "    FOREIGN KEY (oktato_id) REFERENCES Instructors(oktato_id)\n",
    ");\n",
    "\n",
    "CREATE TABLE Exams (\n",
    "    vizsga_id INT PRIMARY KEY,\n",
    "    tanulo_id INT NOT NULL,\n",
    "    vizsga_tipus NVARCHAR(20) NOT NULL CHECK (vizsga_tipus IN ('elméleti', 'forgalmi')),\n",
    "    datum DATE NOT NULL,\n",
    "    eredmeny NVARCHAR(20) NOT NULL CHECK (eredmeny IN ('sikeres', 'sikertelen')),\n",
    "    FOREIGN KEY (tanulo_id) REFERENCES Students(tanulo_id)\n",
    ");\n",
    "\"\"\"\n",
    "\n",
    "# a cursor.execute egyszerre csak 1 utasítást tud végrehajtani, ezért végig kell iterálni a create_table_sql-en\n",
    "\n",
    "for statement in create_tables_sql.strip().split(\";\"):\n",
    "    if statement.strip():\n",
    "        cursor.execute(statement)\n",
    "\n"
   ]
  },
  {
   "cell_type": "markdown",
   "id": "9327690b",
   "metadata": {},
   "source": [
    "Táblák feltöltése adatokkal"
   ]
  },
  {
   "cell_type": "code",
   "execution_count": null,
   "id": "20cdd64b",
   "metadata": {},
   "outputs": [],
   "source": [
    "### Fájlok beolvasása\n",
    "students = pd.read_csv(\"students.csv\", encoding=\"utf-8\")\n",
    "instructors = pd.read_csv(\"instructors.csv\", encoding=\"utf-8\")\n",
    "lessons = pd.read_csv(\"lessons.csv\", encoding=\"utf-8\")\n",
    "vehicles = pd.read_csv(\"vehicles.csv\", encoding=\"utf-8\")\n",
    "exams = pd.read_csv(\"exams.csv\", encoding=\"utf-8\")\n",
    "\n",
    "\n",
    "### Táblák feltöltées executemanyvel\n",
    "\n",
    "students_insert_sql = \"\"\"\n",
    "INSERT INTO Students (tanulo_id, nev, szuletesi_datum, lakcim, telefonszam, email, jelentkezes_datum)\n",
    "VALUES (?, ?, ?, ?, ?, ?, ?)\n",
    "\"\"\"\n",
    "students_adatok = students.values.tolist()\n",
    "cursor.executemany(students_insert_sql, students_adatok)\n",
    "\n",
    "instructors_insert_sql = \"\"\"\n",
    "INSERT INTO Instructors (oktato_id, nev, jogositvany_tipus, munkaviszony_kezdete, telefonszam, email)\n",
    "VALUES (?, ?, ?, ?, ?, ?)\n",
    "\"\"\"\n",
    "instructors_adatok = instructors.values.tolist()\n",
    "cursor.executemany(instructors_insert_sql, instructors_adatok)\n",
    "\n",
    "lessons_insert_sql = \"\"\"\n",
    "INSERT INTO Lessons (ora_id, tanulo_id, oktato_id, datum, idopont, ora_tipus, helyszin)\n",
    "VALUES (?, ?, ?, ?, ?, ?, ?)\n",
    "\"\"\"\n",
    "lessons_adatok = lessons.values.tolist()\n",
    "cursor.executemany(lessons_insert_sql, lessons_adatok)\n",
    "\n",
    "vehicles_insert_sql = \"\"\"\n",
    "INSERT INTO Vehicles (jarmu_id, rendszam, marka, tipus, evjarat, muszaki_ervenyesseg, oktato_id)\n",
    "VALUES (?, ?, ?, ?, ?, ?, ?)\n",
    "\"\"\"\n",
    "vehicles_adatok = vehicles.values.tolist()\n",
    "cursor.executemany(vehicles_insert_sql, vehicles_adatok)\n",
    "\n",
    "exams_insert_sql = \"\"\"\n",
    "INSERT INTO Exams (vizsga_id, tanulo_id, vizsga_tipus, datum, eredmeny)\n",
    "VALUES (?, ?, ?, ?, ?)\n",
    "\"\"\"\n",
    "exams_adatok = exams.values.tolist()\n",
    "cursor.executemany(exams_insert_sql, exams_adatok)"
   ]
  },
  {
   "cell_type": "markdown",
   "id": "fd585798",
   "metadata": {},
   "source": [
    "7 lekérdezés és eredményeik (egyszerűbbektől az összetettekig)"
   ]
  },
  {
   "cell_type": "code",
   "execution_count": null,
   "id": "c51bda43",
   "metadata": {},
   "outputs": [],
   "source": [
    "sql_1 = \"\"\"\n",
    "SELECT nev, szuletesi_datum FROM Students ORDER BY szuletesi_datum\n",
    "\"\"\"\n",
    "cursor.execute(sql_1)\n",
    "rows = cursor.fetchall()\n",
    "sorok = [tuple(row) for row in rows]\n",
    "oszlopok = [desc[0] for desc in cursor.description]\n",
    "\n",
    "lekerdezes_1_df = pd.DataFrame(sorok, columns=oszlopok)\n",
    "lekerdezes_1_df\n"
   ]
  },
  {
   "cell_type": "code",
   "execution_count": null,
   "id": "f3713791",
   "metadata": {},
   "outputs": [],
   "source": [
    "sql_2 = \"\"\"\n",
    "SELECT nev FROM Students WHERE YEAR(szuletesi_datum) > 1990\n",
    "\"\"\"\n",
    "cursor.execute(sql_2)\n",
    "rows = cursor.fetchall()\n",
    "sorok = [tuple(row) for row in rows]\n",
    "oszlopok = [desc[0] for desc in cursor.description]\n",
    "\n",
    "lekerdezes_2_df = pd.DataFrame(sorok, columns=oszlopok)\n",
    "lekerdezes_2_df\n"
   ]
  },
  {
   "cell_type": "code",
   "execution_count": null,
   "id": "957fb69c",
   "metadata": {},
   "outputs": [],
   "source": [
    "sql_3 = \"\"\"\n",
    "SELECT S.nev AS tanulo_nev, I.nev AS oktato_nev\n",
    "FROM Lessons L\n",
    "JOIN Students S ON L.tanulo_id = S.tanulo_id\n",
    "JOIN Instructors I ON L.oktato_id = I.oktato_id\n",
    "\"\"\"\n",
    "cursor.execute(sql_3)\n",
    "rows = cursor.fetchall()\n",
    "sorok = [tuple(row) for row in rows]\n",
    "oszlopok = [desc[0] for desc in cursor.description]\n",
    "\n",
    "lekerdezes_3_df = pd.DataFrame(sorok, columns=oszlopok)\n",
    "lekerdezes_3_df\n"
   ]
  },
  {
   "cell_type": "code",
   "execution_count": null,
   "id": "8dceaff5",
   "metadata": {},
   "outputs": [],
   "source": [
    "sql_4 = \"\"\"\n",
    "SELECT I.nev, COUNT(DISTINCT L.tanulo_id) AS tanulok_szama\n",
    "FROM Lessons L\n",
    "JOIN Instructors I ON L.oktato_id = I.oktato_id\n",
    "GROUP BY I.nev\n",
    "\"\"\"\n",
    "cursor.execute(sql_4)\n",
    "rows = cursor.fetchall()\n",
    "sorok = [tuple(row) for row in rows]\n",
    "oszlopok = [desc[0] for desc in cursor.description]\n",
    "\n",
    "lekerdezes_4_df = pd.DataFrame(sorok, columns=oszlopok)\n",
    "lekerdezes_4_df\n"
   ]
  },
  {
   "cell_type": "code",
   "execution_count": null,
   "id": "2be77c96",
   "metadata": {},
   "outputs": [],
   "source": [
    "sql_5 = \"\"\"\n",
    "SELECT I.nev, COUNT(DISTINCT L.tanulo_id) AS tanulok_szama\n",
    "FROM Lessons L\n",
    "JOIN Instructors I ON L.oktato_id = I.oktato_id\n",
    "GROUP BY I.nev\n",
    "HAVING COUNT(DISTINCT L.tanulo_id) >= 2\n",
    "\"\"\"\n",
    "cursor.execute(sql_5)\n",
    "rows = cursor.fetchall()\n",
    "sorok = [tuple(row) for row in rows]\n",
    "oszlopok = [desc[0] for desc in cursor.description]\n",
    "\n",
    "lekerdezes_5_df = pd.DataFrame(sorok, columns=oszlopok)\n",
    "lekerdezes_5_df\n"
   ]
  },
  {
   "cell_type": "code",
   "execution_count": null,
   "id": "77695f41",
   "metadata": {},
   "outputs": [],
   "source": [
    "sql_6 = \"\"\"\n",
    "SELECT ora_tipus, COUNT(*) AS ora_db\n",
    "FROM Lessons\n",
    "GROUP BY ROLLUP (ora_tipus)\n",
    "\"\"\"\n",
    "cursor.execute(sql_6)\n",
    "rows = cursor.fetchall()\n",
    "sorok = [tuple(row) for row in rows]\n",
    "oszlopok = [desc[0] for desc in cursor.description]\n",
    "\n",
    "lekerdezes_6_df = pd.DataFrame(sorok, columns=oszlopok)\n",
    "lekerdezes_6_df\n"
   ]
  },
  {
   "cell_type": "code",
   "execution_count": null,
   "id": "cbee2c61",
   "metadata": {},
   "outputs": [],
   "source": [
    "sql_7 = \"\"\"\n",
    "SELECT nev, szuletesi_datum,\n",
    "       RANK() OVER (ORDER BY szuletesi_datum) AS szuletesi_sorrend\n",
    "FROM Students\n",
    "\"\"\"\n",
    "cursor.execute(sql_7)\n",
    "rows = cursor.fetchall()\n",
    "sorok = [tuple(row) for row in rows]\n",
    "oszlopok = [desc[0] for desc in cursor.description]\n",
    "\n",
    "lekerdezes_7_df = pd.DataFrame(sorok, columns=oszlopok)\n",
    "lekerdezes_7_df\n"
   ]
  },
  {
   "cell_type": "markdown",
   "id": "bb06499c",
   "metadata": {},
   "source": [
    "7 CRUD művelet (egyszerűbbektől az összetettekig)"
   ]
  },
  {
   "cell_type": "markdown",
   "id": "8d45f5f1",
   "metadata": {},
   "source": [
    "Create"
   ]
  },
  {
   "cell_type": "code",
   "execution_count": null,
   "id": "e56e96ef",
   "metadata": {},
   "outputs": [],
   "source": [
    "sql_C1 = \"\"\"\n",
    "INSERT INTO Students (tanulo_id, nev, szuletesi_datum, lakcim, telefonszam, email, jelentkezes_datum)\n",
    "VALUES (999, 'Teszt Elek', '2000-01-01', 'Teszt utca 1.', '0600000000', 'teszt@pelda.hu', '2025-01-01')\n",
    "\"\"\"\n",
    "cursor.execute(sql_C1)\n"
   ]
  },
  {
   "cell_type": "markdown",
   "id": "3c9ac9f3",
   "metadata": {},
   "source": [
    "Read"
   ]
  },
  {
   "cell_type": "code",
   "execution_count": null,
   "id": "df3aba77",
   "metadata": {},
   "outputs": [],
   "source": [
    "sql_C2 = \"SELECT * FROM Students WHERE tanulo_id = 999\"\n",
    "cursor.execute(sql_C2)\n",
    "rows = cursor.fetchall()\n",
    "sorok = [tuple(row) for row in rows]\n",
    "oszlopok = [desc[0] for desc in cursor.description]\n",
    "\n",
    "CRUD_2_df = pd.DataFrame(sorok, columns=oszlopok)\n",
    "CRUD_2_df\n"
   ]
  },
  {
   "cell_type": "markdown",
   "id": "87c4753e",
   "metadata": {},
   "source": [
    "Update"
   ]
  },
  {
   "cell_type": "code",
   "execution_count": null,
   "id": "b99095c0",
   "metadata": {},
   "outputs": [],
   "source": [
    "sql_C3 = \"\"\"\n",
    "UPDATE Students SET lakcim = 'Módosított utca 99.' WHERE tanulo_id = 999\n",
    "\"\"\"\n",
    "cursor.execute(sql_C3)"
   ]
  },
  {
   "cell_type": "markdown",
   "id": "6df4e710",
   "metadata": {},
   "source": [
    "Read - Update-elt lakcím ellenörzése"
   ]
  },
  {
   "cell_type": "code",
   "execution_count": null,
   "id": "088be352",
   "metadata": {},
   "outputs": [],
   "source": [
    "sql_C4 = \"SELECT nev, lakcim FROM Students WHERE tanulo_id = 999\"\n",
    "cursor.execute(sql_C4)\n",
    "rows = cursor.fetchall()\n",
    "sorok = [tuple(row) for row in rows]\n",
    "oszlopok = [desc[0] for desc in cursor.description]\n",
    "\n",
    "CRUD_4_df = pd.DataFrame(sorok, columns=oszlopok)\n",
    "CRUD_4_df\n"
   ]
  },
  {
   "cell_type": "markdown",
   "id": "e97f9db1",
   "metadata": {},
   "source": [
    "Delete"
   ]
  },
  {
   "cell_type": "code",
   "execution_count": null,
   "id": "0630a90a",
   "metadata": {},
   "outputs": [],
   "source": [
    "sql_C5 = \"DELETE FROM Students WHERE tanulo_id = 999\"\n",
    "cursor.execute(sql_C5)\n"
   ]
  },
  {
   "cell_type": "markdown",
   "id": "e2a0c6c6",
   "metadata": {},
   "source": [
    "Read - Delete ellenőrzése"
   ]
  },
  {
   "cell_type": "code",
   "execution_count": null,
   "id": "3da21abd",
   "metadata": {},
   "outputs": [],
   "source": [
    "sql_C6 = \"SELECT * FROM Students WHERE tanulo_id = 999\"\n",
    "cursor.execute(sql_C6)\n",
    "rows = cursor.fetchall()\n",
    "sorok = [tuple(row) for row in rows]\n",
    "oszlopok = [desc[0] for desc in cursor.description]\n",
    "\n",
    "CRUD_6_df = pd.DataFrame(sorok, columns=oszlopok)\n",
    "CRUD_6_df\n"
   ]
  },
  {
   "cell_type": "code",
   "execution_count": null,
   "id": "b7a5a3aa",
   "metadata": {},
   "outputs": [],
   "source": [
    "sql_C7 = \"\"\"\n",
    "IF EXISTS (SELECT 1 FROM Students WHERE tanulo_id = 1)\n",
    "   AND EXISTS (SELECT 1 FROM Instructors WHERE oktato_id = 1)\n",
    "BEGIN\n",
    "    INSERT INTO Lessons (ora_id, tanulo_id, oktato_id, datum, idopont, ora_tipus, helyszin)\n",
    "    VALUES (9999, 1, 1, '2025-05-16', '08:00', 'gyakorlati', 'Központi gyakorlópálya')\n",
    "END\n",
    "\"\"\"\n",
    "cursor.execute(sql_C7)\n"
   ]
  },
  {
   "cell_type": "code",
   "execution_count": null,
   "id": "dfd1b9c3",
   "metadata": {},
   "outputs": [],
   "source": [
    "conn.close()"
   ]
  }
 ],
 "metadata": {
  "kernelspec": {
   "display_name": "Python 3",
   "language": "python",
   "name": "python3"
  },
  "language_info": {
   "codemirror_mode": {
    "name": "ipython",
    "version": 3
   },
   "file_extension": ".py",
   "mimetype": "text/x-python",
   "name": "python",
   "nbconvert_exporter": "python",
   "pygments_lexer": "ipython3",
   "version": "3.11.8"
  }
 },
 "nbformat": 4,
 "nbformat_minor": 5
}
